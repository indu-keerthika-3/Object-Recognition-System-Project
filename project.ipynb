{
  "cells": [
    {
      "cell_type": "code",
      "execution_count": null,
      "metadata": {
        "colab": {
          "base_uri": "https://localhost:8080/"
        },
        "id": "QKxzunykfEAo",
        "outputId": "3c16192b-d618-4b94-8b15-9f0e4d7861fe"
      },
      "outputs": [
        {
          "name": "stdout",
          "output_type": "stream",
          "text": [
            "Requirement already satisfied: tensorflow in /usr/local/python/3.12.1/lib/python3.12/site-packages (2.18.0)\n",
            "Requirement already satisfied: opencv-python in /usr/local/python/3.12.1/lib/python3.12/site-packages (4.11.0.86)\n",
            "Requirement already satisfied: matplotlib in /home/codespace/.local/lib/python3.12/site-packages (3.9.3)\n",
            "Requirement already satisfied: numpy in /usr/local/python/3.12.1/lib/python3.12/site-packages (2.0.2)\n",
            "Requirement already satisfied: absl-py>=1.0.0 in /usr/local/python/3.12.1/lib/python3.12/site-packages (from tensorflow) (2.1.0)\n",
            "Requirement already satisfied: astunparse>=1.6.0 in /usr/local/python/3.12.1/lib/python3.12/site-packages (from tensorflow) (1.6.3)\n",
            "Requirement already satisfied: flatbuffers>=24.3.25 in /usr/local/python/3.12.1/lib/python3.12/site-packages (from tensorflow) (25.2.10)\n",
            "Requirement already satisfied: gast!=0.5.0,!=0.5.1,!=0.5.2,>=0.2.1 in /usr/local/python/3.12.1/lib/python3.12/site-packages (from tensorflow) (0.6.0)\n",
            "Requirement already satisfied: google-pasta>=0.1.1 in /usr/local/python/3.12.1/lib/python3.12/site-packages (from tensorflow) (0.2.0)\n",
            "Requirement already satisfied: libclang>=13.0.0 in /usr/local/python/3.12.1/lib/python3.12/site-packages (from tensorflow) (18.1.1)\n",
            "Requirement already satisfied: opt-einsum>=2.3.2 in /usr/local/python/3.12.1/lib/python3.12/site-packages (from tensorflow) (3.4.0)\n",
            "Requirement already satisfied: packaging in /home/codespace/.local/lib/python3.12/site-packages (from tensorflow) (24.2)\n",
            "Requirement already satisfied: protobuf!=4.21.0,!=4.21.1,!=4.21.2,!=4.21.3,!=4.21.4,!=4.21.5,<6.0.0dev,>=3.20.3 in /usr/local/python/3.12.1/lib/python3.12/site-packages (from tensorflow) (5.29.3)\n",
            "Requirement already satisfied: requests<3,>=2.21.0 in /home/codespace/.local/lib/python3.12/site-packages (from tensorflow) (2.32.3)\n",
            "Requirement already satisfied: setuptools in /home/codespace/.local/lib/python3.12/site-packages (from tensorflow) (75.6.0)\n",
            "Requirement already satisfied: six>=1.12.0 in /home/codespace/.local/lib/python3.12/site-packages (from tensorflow) (1.17.0)\n",
            "Requirement already satisfied: termcolor>=1.1.0 in /usr/local/python/3.12.1/lib/python3.12/site-packages (from tensorflow) (2.5.0)\n",
            "Requirement already satisfied: typing-extensions>=3.6.6 in /home/codespace/.local/lib/python3.12/site-packages (from tensorflow) (4.12.2)\n",
            "Requirement already satisfied: wrapt>=1.11.0 in /usr/local/python/3.12.1/lib/python3.12/site-packages (from tensorflow) (1.17.2)\n",
            "Requirement already satisfied: grpcio<2.0,>=1.24.3 in /usr/local/python/3.12.1/lib/python3.12/site-packages (from tensorflow) (1.70.0)\n",
            "Requirement already satisfied: tensorboard<2.19,>=2.18 in /usr/local/python/3.12.1/lib/python3.12/site-packages (from tensorflow) (2.18.0)\n",
            "Requirement already satisfied: keras>=3.5.0 in /usr/local/python/3.12.1/lib/python3.12/site-packages (from tensorflow) (3.8.0)\n",
            "Requirement already satisfied: h5py>=3.11.0 in /usr/local/python/3.12.1/lib/python3.12/site-packages (from tensorflow) (3.13.0)\n",
            "Requirement already satisfied: ml-dtypes<0.5.0,>=0.4.0 in /usr/local/python/3.12.1/lib/python3.12/site-packages (from tensorflow) (0.4.1)\n",
            "Requirement already satisfied: contourpy>=1.0.1 in /home/codespace/.local/lib/python3.12/site-packages (from matplotlib) (1.3.1)\n",
            "Requirement already satisfied: cycler>=0.10 in /home/codespace/.local/lib/python3.12/site-packages (from matplotlib) (0.12.1)\n",
            "Requirement already satisfied: fonttools>=4.22.0 in /home/codespace/.local/lib/python3.12/site-packages (from matplotlib) (4.55.3)\n",
            "Requirement already satisfied: kiwisolver>=1.3.1 in /home/codespace/.local/lib/python3.12/site-packages (from matplotlib) (1.4.7)\n",
            "Requirement already satisfied: pillow>=8 in /home/codespace/.local/lib/python3.12/site-packages (from matplotlib) (11.0.0)\n",
            "Requirement already satisfied: pyparsing>=2.3.1 in /home/codespace/.local/lib/python3.12/site-packages (from matplotlib) (3.2.0)\n",
            "Requirement already satisfied: python-dateutil>=2.7 in /home/codespace/.local/lib/python3.12/site-packages (from matplotlib) (2.9.0.post0)\n",
            "Requirement already satisfied: wheel<1.0,>=0.23.0 in /usr/local/python/3.12.1/lib/python3.12/site-packages (from astunparse>=1.6.0->tensorflow) (0.45.1)\n",
            "Requirement already satisfied: rich in /usr/local/python/3.12.1/lib/python3.12/site-packages (from keras>=3.5.0->tensorflow) (13.9.4)\n",
            "Requirement already satisfied: namex in /usr/local/python/3.12.1/lib/python3.12/site-packages (from keras>=3.5.0->tensorflow) (0.0.8)\n",
            "Requirement already satisfied: optree in /usr/local/python/3.12.1/lib/python3.12/site-packages (from keras>=3.5.0->tensorflow) (0.14.0)\n",
            "Requirement already satisfied: charset-normalizer<4,>=2 in /home/codespace/.local/lib/python3.12/site-packages (from requests<3,>=2.21.0->tensorflow) (3.4.0)\n",
            "Requirement already satisfied: idna<4,>=2.5 in /home/codespace/.local/lib/python3.12/site-packages (from requests<3,>=2.21.0->tensorflow) (3.10)\n",
            "Requirement already satisfied: urllib3<3,>=1.21.1 in /home/codespace/.local/lib/python3.12/site-packages (from requests<3,>=2.21.0->tensorflow) (2.2.3)\n",
            "Requirement already satisfied: certifi>=2017.4.17 in /home/codespace/.local/lib/python3.12/site-packages (from requests<3,>=2.21.0->tensorflow) (2024.8.30)\n",
            "Requirement already satisfied: markdown>=2.6.8 in /usr/local/python/3.12.1/lib/python3.12/site-packages (from tensorboard<2.19,>=2.18->tensorflow) (3.7)\n",
            "Requirement already satisfied: tensorboard-data-server<0.8.0,>=0.7.0 in /usr/local/python/3.12.1/lib/python3.12/site-packages (from tensorboard<2.19,>=2.18->tensorflow) (0.7.2)\n",
            "Requirement already satisfied: werkzeug>=1.0.1 in /usr/local/python/3.12.1/lib/python3.12/site-packages (from tensorboard<2.19,>=2.18->tensorflow) (3.1.3)\n",
            "Requirement already satisfied: MarkupSafe>=2.1.1 in /home/codespace/.local/lib/python3.12/site-packages (from werkzeug>=1.0.1->tensorboard<2.19,>=2.18->tensorflow) (3.0.2)\n",
            "Requirement already satisfied: markdown-it-py>=2.2.0 in /usr/local/python/3.12.1/lib/python3.12/site-packages (from rich->keras>=3.5.0->tensorflow) (3.0.0)\n",
            "Requirement already satisfied: pygments<3.0.0,>=2.13.0 in /home/codespace/.local/lib/python3.12/site-packages (from rich->keras>=3.5.0->tensorflow) (2.18.0)\n",
            "Requirement already satisfied: mdurl~=0.1 in /usr/local/python/3.12.1/lib/python3.12/site-packages (from markdown-it-py>=2.2.0->rich->keras>=3.5.0->tensorflow) (0.1.2)\n",
            "\n",
            "\u001b[1m[\u001b[0m\u001b[34;49mnotice\u001b[0m\u001b[1;39;49m]\u001b[0m\u001b[39;49m A new release of pip is available: \u001b[0m\u001b[31;49m24.3.1\u001b[0m\u001b[39;49m -> \u001b[0m\u001b[32;49m25.0.1\u001b[0m\n",
            "\u001b[1m[\u001b[0m\u001b[34;49mnotice\u001b[0m\u001b[1;39;49m]\u001b[0m\u001b[39;49m To update, run: \u001b[0m\u001b[32;49mpython3 -m pip install --upgrade pip\u001b[0m\n",
            "Note: you may need to restart the kernel to use updated packages.\n",
            "Collecting tqdm\n",
            "  Downloading tqdm-4.67.1-py3-none-any.whl.metadata (57 kB)\n",
            "Downloading tqdm-4.67.1-py3-none-any.whl (78 kB)\n",
            "Installing collected packages: tqdm\n",
            "Successfully installed tqdm-4.67.1\n",
            "\n",
            "\u001b[1m[\u001b[0m\u001b[34;49mnotice\u001b[0m\u001b[1;39;49m]\u001b[0m\u001b[39;49m A new release of pip is available: \u001b[0m\u001b[31;49m24.3.1\u001b[0m\u001b[39;49m -> \u001b[0m\u001b[32;49m25.0.1\u001b[0m\n",
            "\u001b[1m[\u001b[0m\u001b[34;49mnotice\u001b[0m\u001b[1;39;49m]\u001b[0m\u001b[39;49m To update, run: \u001b[0m\u001b[32;49mpython3 -m pip install --upgrade pip\u001b[0m\n",
            "Note: you may need to restart the kernel to use updated packages.\n"
          ]
        }
      ],
      "source": [
        "%pip install tensorflow opencv-python matplotlib numpy\n",
        "%pip install tqdm\n",
        "\n",
        "\n",
        "\n",
        "\n"
      ]
    },
    {
      "cell_type": "code",
      "execution_count": 26,
      "metadata": {
        "colab": {
          "base_uri": "https://localhost:8080/"
        },
        "id": "z59IAaM8fndr",
        "outputId": "8abd0c04-4387-4ed7-d1f2-8f8403fa4428"
      },
      "outputs": [
        {
          "name": "stdout",
          "output_type": "stream",
          "text": [
            "✅ Cat Image 1 downloaded.\n",
            "✅ Cat Image 2 downloaded.\n",
            "✅ Cat Image 3 downloaded.\n",
            "✅ Cat Image 4 downloaded.\n",
            "✅ Cat Image 5 downloaded.\n",
            "✅ Cat Image 6 downloaded.\n",
            "✅ Cat Image 7 downloaded.\n",
            "✅ Cat Image 8 downloaded.\n",
            "✅ Cat Image 9 downloaded.\n",
            "✅ Cat Image 10 downloaded.\n",
            "✅ Cat Image 11 downloaded.\n",
            "✅ Cat Image 12 downloaded.\n",
            "✅ Cat Image 13 downloaded.\n",
            "✅ Cat Image 14 downloaded.\n",
            "✅ Cat Image 15 downloaded.\n",
            "✅ Cat Image 16 downloaded.\n",
            "✅ Cat Image 17 downloaded.\n",
            "✅ Cat Image 18 downloaded.\n",
            "✅ Cat Image 19 downloaded.\n",
            "✅ Cat Image 20 downloaded.\n",
            "✅ Cat Image 21 downloaded.\n",
            "✅ Cat Image 22 downloaded.\n",
            "✅ Cat Image 23 downloaded.\n",
            "✅ Cat Image 24 downloaded.\n",
            "✅ Cat Image 25 downloaded.\n",
            "✅ Cat Image 26 downloaded.\n",
            "✅ Cat Image 27 downloaded.\n",
            "✅ Cat Image 28 downloaded.\n",
            "✅ Cat Image 29 downloaded.\n",
            "✅ Cat Image 30 downloaded.\n",
            "✅ Dog Image 1 downloaded.\n",
            "✅ Dog Image 2 downloaded.\n",
            "✅ Dog Image 3 downloaded.\n",
            "✅ Dog Image 4 downloaded.\n",
            "✅ Dog Image 5 downloaded.\n",
            "✅ Dog Image 6 downloaded.\n",
            "✅ Dog Image 7 downloaded.\n",
            "✅ Dog Image 8 downloaded.\n",
            "✅ Dog Image 9 downloaded.\n",
            "✅ Dog Image 10 downloaded.\n",
            "✅ Dog Image 11 downloaded.\n",
            "✅ Dog Image 12 downloaded.\n",
            "✅ Dog Image 13 downloaded.\n",
            "✅ Dog Image 14 downloaded.\n",
            "✅ Dog Image 15 downloaded.\n",
            "✅ Dog Image 16 downloaded.\n",
            "✅ Dog Image 17 downloaded.\n",
            "✅ Dog Image 18 downloaded.\n",
            "✅ Dog Image 19 downloaded.\n",
            "✅ Dog Image 20 downloaded.\n",
            "✅ Dog Image 21 downloaded.\n",
            "✅ Dog Image 22 downloaded.\n",
            "✅ Dog Image 23 downloaded.\n",
            "✅ Dog Image 24 downloaded.\n",
            "✅ Dog Image 25 downloaded.\n",
            "✅ Dog Image 26 downloaded.\n",
            "✅ Dog Image 27 downloaded.\n",
            "✅ Dog Image 28 downloaded.\n",
            "✅ Dog Image 29 downloaded.\n",
            "✅ Dog Image 30 downloaded.\n",
            "✅ All images downloaded successfully!\n"
          ]
        }
      ],
      "source": [
        "import os\n",
        "import requests\n",
        "import random\n",
        "import time\n",
        "\n",
        "# Define dataset path and categories\n",
        "DATASET_PATH = \"dataset/\"\n",
        "CATEGORIES = [\"cat\", \"dog\"]\n",
        "\n",
        "# Create dataset folders if they don't exist\n",
        "for category in CATEGORIES:\n",
        "    os.makedirs(os.path.join(DATASET_PATH, category), exist_ok=True)\n",
        "\n",
        "# Function to download images\n",
        "def download_images(category, count=30):\n",
        "    for i in range(1, count + 1):\n",
        "        try:\n",
        "            # Get unique random image from Unsplash\n",
        "            url = f\"https://source.unsplash.com/featured/?{category}&{random.randint(1, 10000)}\"\n",
        "            \n",
        "            # Save image\n",
        "            img_path = os.path.join(DATASET_PATH, category, f\"{category}{i}.jpg\")\n",
        "            img_data = requests.get(url, timeout=10).content\n",
        "            with open(img_path, \"wb\") as handler:\n",
        "                handler.write(img_data)\n",
        "\n",
        "            print(f\"✅ {category.capitalize()} Image {i} downloaded.\")\n",
        "            time.sleep(1)  # Small delay to ensure different images\n",
        "        except Exception as e:\n",
        "            print(f\"❌ Failed to download {category.capitalize()} Image {i}: {e}\")\n",
        "\n",
        "# Download images for each category\n",
        "for category in CATEGORIES:\n",
        "    download_images(category, 30)\n",
        "\n",
        "print(\"✅ All images downloaded successfully!\")\n"
      ]
    },
    {
      "cell_type": "code",
      "execution_count": 27,
      "metadata": {
        "colab": {
          "base_uri": "https://localhost:8080/"
        },
        "id": "jXGHk421f43a",
        "outputId": "cd46e692-d6b6-4b59-9ffe-3ba71b6fe7ba"
      },
      "outputs": [
        {
          "name": "stdout",
          "output_type": "stream",
          "text": [
            "Found 48 images belonging to 2 classes.\n",
            "Found 12 images belonging to 2 classes.\n",
            "✅ Data loaded successfully!\n"
          ]
        }
      ],
      "source": [
        "from tensorflow.keras.preprocessing.image import ImageDataGenerator\n",
        "\n",
        "# Create an ImageDataGenerator instance\n",
        "datagen = ImageDataGenerator(rescale=1./255, validation_split=0.2)  # Normalizes pixel values\n",
        "\n",
        "# Load images with correct paths\n",
        "train_data = datagen.flow_from_directory(\n",
        "    'dataset/', target_size=(64, 64), batch_size=8, class_mode='binary', subset='training')\n",
        "\n",
        "val_data = datagen.flow_from_directory(\n",
        "    'dataset/', target_size=(64, 64), batch_size=8, class_mode='binary', subset='validation')\n",
        "\n",
        "print(\"✅ Data loaded successfully!\")\n"
      ]
    },
    {
      "cell_type": "code",
      "execution_count": 28,
      "metadata": {
        "id": "_cjAa0Umf8ZB"
      },
      "outputs": [],
      "source": [
        "datagen = ImageDataGenerator(rescale=1./255, validation_split=0.1)\n"
      ]
    },
    {
      "cell_type": "code",
      "execution_count": 29,
      "metadata": {},
      "outputs": [
        {
          "name": "stderr",
          "output_type": "stream",
          "text": [
            "1345.97s - pydevd: Sending message related to process being replaced timed-out after 5 seconds\n"
          ]
        },
        {
          "name": "stdout",
          "output_type": "stream",
          "text": [
            "Reading package lists... Done\n",
            "E: List directory /var/lib/apt/lists/partial is missing. - Acquire (13: Permission denied)\n"
          ]
        },
        {
          "name": "stderr",
          "output_type": "stream",
          "text": [
            "1351.39s - pydevd: Sending message related to process being replaced timed-out after 5 seconds\n"
          ]
        },
        {
          "name": "stdout",
          "output_type": "stream",
          "text": [
            "E: Could not open lock file /var/lib/dpkg/lock-frontend - open (13: Permission denied)\n",
            "E: Unable to acquire the dpkg frontend lock (/var/lib/dpkg/lock-frontend), are you root?\n"
          ]
        }
      ],
      "source": [
        "!apt-get update\n",
        "!apt-get install -y libgl1-mesa-glx\n"
      ]
    },
    {
      "cell_type": "code",
      "execution_count": 39,
      "metadata": {
        "colab": {
          "base_uri": "https://localhost:8080/"
        },
        "id": "HmdjitMLgQX8",
        "outputId": "12c6ba86-44d0-4d78-dabc-9f1b0e5b5646"
      },
      "outputs": [],
      "source": [
        "import os\n",
        "import random\n",
        "import matplotlib.pyplot as plt\n",
        "from PIL import Image\n",
        "\n",
        "# Define dataset path\n",
        "dataset_path = \"dataset/\"\n",
        "\n",
        "# Function to check and remove invalid images\n",
        "def remove_corrupt_images(category):\n",
        "    category_path = os.path.join(dataset_path, category)\n",
        "    if os.path.exists(category_path):\n",
        "        for img_name in os.listdir(category_path):\n",
        "            img_path = os.path.join(category_path, img_name)\n",
        "            try:\n",
        "                with Image.open(img_path) as img:\n",
        "                    img.verify()  # Check if the image is valid\n",
        "            except (IOError, SyntaxError):\n",
        "                print(f\"❌ Corrupt image removed: {img_path}\")\n",
        "                os.remove(img_path)  # Delete the invalid image\n",
        "\n",
        "# Clean both categories\n",
        "for category in [\"cat\", \"dog\"]:\n",
        "    remove_corrupt_images(category)\n"
      ]
    },
    {
      "cell_type": "code",
      "execution_count": 40,
      "metadata": {},
      "outputs": [
        {
          "name": "stdout",
          "output_type": "stream",
          "text": [
            "cat: 0 valid images\n",
            "dog: 0 valid images\n"
          ]
        }
      ],
      "source": [
        "for category in [\"cat\", \"dog\"]:\n",
        "    category_path = os.path.join(dataset_path, category)\n",
        "\n",
        "    if os.path.exists(category_path):\n",
        "        images = os.listdir(category_path)\n",
        "        print(f\"{category}: {len(images)} valid images\")\n",
        "\n",
        "        # Show random sample images\n",
        "        if len(images) > 0:\n",
        "            sample_images = random.sample(images, min(3, len(images)))  # Show up to 3 images\n",
        "            fig, axes = plt.subplots(1, len(sample_images), figsize=(10, 5))\n",
        "\n",
        "            for i, img_name in enumerate(sample_images):\n",
        "                img_path = os.path.join(category_path, img_name)\n",
        "                try:\n",
        "                    img = Image.open(img_path)\n",
        "                    img = img.convert(\"RGB\")  # Ensure it's a valid image format\n",
        "                    axes[i].imshow(img)\n",
        "                    axes[i].axis(\"off\")\n",
        "                    axes[i].set_title(f\"{category} - {img_name}\")\n",
        "                except Exception as e:\n",
        "                    print(f\"❌ Could not open {img_name}: {e}\")\n",
        "\n",
        "            plt.show()\n",
        "    else:\n",
        "        print(f\"❌ {category} folder not found!\")"
      ]
    },
    {
      "cell_type": "code",
      "execution_count": 35,
      "metadata": {},
      "outputs": [
        {
          "name": "stdout",
          "output_type": "stream",
          "text": [
            "✅ All valid images are ready for use.\n"
          ]
        }
      ],
      "source": [
        "from PIL import Image\n",
        "import os\n",
        "\n",
        "dataset_path = \"dataset/\"\n",
        "\n",
        "# Function to remove invalid images\n",
        "def remove_invalid_images(category):\n",
        "    category_path = os.path.join(dataset_path, category)\n",
        "    if os.path.exists(category_path):\n",
        "        for img_name in os.listdir(category_path):\n",
        "            img_path = os.path.join(category_path, img_name)\n",
        "            try:\n",
        "                img = Image.open(img_path)\n",
        "                img.verify()  # Check if the image is valid\n",
        "            except (IOError, SyntaxError):\n",
        "                print(f\"❌ Corrupt image detected and removed: {img_path}\")\n",
        "                os.remove(img_path)  # Delete invalid image\n",
        "\n",
        "# Validate images in both categories\n",
        "for category in [\"cat\", \"dog\"]:\n",
        "    remove_invalid_images(category)\n",
        "\n",
        "print(\"✅ All valid images are ready for use.\")\n"
      ]
    }
  ],
  "metadata": {
    "colab": {
      "provenance": []
    },
    "kernelspec": {
      "display_name": "Python 3 (ipykernel)",
      "language": "python",
      "name": "python3"
    },
    "language_info": {
      "codemirror_mode": {
        "name": "ipython",
        "version": 3
      },
      "file_extension": ".py",
      "mimetype": "text/x-python",
      "name": "python",
      "nbconvert_exporter": "python",
      "pygments_lexer": "ipython3",
      "version": "3.12.1"
    }
  },
  "nbformat": 4,
  "nbformat_minor": 0
}
