 from ultralytics import YOLO
import streamlit as st
import cv2
import torch
import numpy as np

# Load YOLO Model
model = YOLO("yolov8n.pt")  # Ensure the correct path

st.title("YOLO Object Detection App")

# File Uploader for Images
uploaded_file = st.file_uploader("Choose an image...", type=["jpg", "png", "jpeg"])

if uploaded_file:
    # Read the uploaded image
    file_bytes = np.asarray(bytearray(uploaded_file.read()), dtype=np.uint8)
    img = cv2.imdecode(file_bytes, 1)

    # Run YOLO inference
    results = model(img)

    # Draw bounding boxes
    for result in results:
        for box in result.boxes:
            x1, y1, x2, y2 = map(int, box.xyxy[0])
            conf = box.conf[0].item()
            cls = int(box.cls[0].item())
            label = f"{model.names[cls]}: {conf:.2f}"

            # Draw bounding box
            cv2.rectangle(img, (x1, y1), (x2, y2), (0, 255, 0), 2)
            cv2.putText(img, label, (x1, y1 - 10), cv2.FONT_HERSHEY_SIMPLEX, 0.5, (0, 255, 0), 2)

    # Display output image
    st.image(img, channels="BGR", caption="Detected Objects")

# Remove model validation to prevent errors
# metrics = model.val()  # ❌ Commented out to avoid missing dataset issues

st.write("Object Detection Completed!")

